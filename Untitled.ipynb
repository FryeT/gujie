{
 "cells": [
  {
   "cell_type": "code",
   "execution_count": 12,
   "metadata": {
    "collapsed": true
   },
   "outputs": [],
   "source": [
    "import matplotlib.pyplot as plt\n",
    "%matplotlib inline"
   ]
  },
  {
   "cell_type": "code",
   "execution_count": 1,
   "metadata": {
    "collapsed": true
   },
   "outputs": [],
   "source": [
    "import pandas as pd\n",
    "import os"
   ]
  },
  {
   "cell_type": "code",
   "execution_count": 14,
   "metadata": {
    "collapsed": false
   },
   "outputs": [],
   "source": [
    "dirpath = 'sha/datas'\n",
    "files = os.listdir(dirpath)\n",
    "files.sort(key=lambda x: int(os.path.splitext(x)[0]))\n",
    "dfcols = ['s_200','s_400','m_200','m_400','s_c','m_c']\n",
    "df = pd.DataFrame(columns=dfcols)\n",
    "for file in files:\n",
    "    temp_df = pd.read_table(os.sep.join((dirpath,file)))\n",
    "    temp_df.columns = dfcols\n",
    "    df = pd.concat([df,temp_df],ignore_index=True)\n",
    "\n",
    "df=df-df.ix[0]\n",
    "df.to_csv('sha/sha_processed_data.csv', index=False)"
   ]
  },
  {
   "cell_type": "code",
   "execution_count": 16,
   "metadata": {
    "collapsed": true
   },
   "outputs": [],
   "source": [
    "dirpath = 'fen/datas'\n",
    "files = os.listdir(dirpath)\n",
    "files.sort(key=lambda x: int(os.path.splitext(x)[0]))\n",
    "dfcols = ['s_200','s_400','m_200','m_400','s_c','m_c']\n",
    "df = pd.DataFrame(columns=dfcols)\n",
    "for file in files:\n",
    "    temp_df = pd.read_table(os.sep.join((dirpath,file)))\n",
    "    temp_df.columns = dfcols\n",
    "    df = pd.concat([df,temp_df],ignore_index=True)\n",
    "    \n",
    "df=df-df.ix[0]\n",
    "df.to_csv('fen/fen_processed_data.csv', index=False)"
   ]
  },
  {
   "cell_type": "code",
   "execution_count": null,
   "metadata": {
    "collapsed": true
   },
   "outputs": [],
   "source": []
  }
 ],
 "metadata": {
  "kernelspec": {
   "display_name": "Python [Root]",
   "language": "python",
   "name": "Python [Root]"
  },
  "language_info": {
   "codemirror_mode": {
    "name": "ipython",
    "version": 3
   },
   "file_extension": ".py",
   "mimetype": "text/x-python",
   "name": "python",
   "nbconvert_exporter": "python",
   "pygments_lexer": "ipython3",
   "version": "3.5.2"
  }
 },
 "nbformat": 4,
 "nbformat_minor": 0
}
